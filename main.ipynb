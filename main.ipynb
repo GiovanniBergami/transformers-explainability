{
 "cells": [
  {
   "cell_type": "markdown",
   "id": "36ef2dd7",
   "metadata": {},
   "source": [
    "### Transformers-Explainability\n",
    "Follow this pipeline to interpret a model's choice using different XAI methods"
   ]
  },
  {
   "cell_type": "code",
   "execution_count": null,
   "id": "43c2226e",
   "metadata": {},
   "outputs": [],
   "source": [
    "# download raw datasets (can take some time) and import dataset creation functions\n",
    "%run dataset_creator.ipynb"
   ]
  },
  {
   "cell_type": "code",
   "execution_count": null,
   "id": "eac71875",
   "metadata": {},
   "outputs": [],
   "source": [
    "# create intermediate datasets (can take a while)\n",
    "text_processor = TextProcessor(None)\n",
    "ac = AsyLexCleaner(text_processor=text_processor)\n",
    "ac.create_all_intermediate()"
   ]
  },
  {
   "cell_type": "code",
   "execution_count": null,
   "id": "a9fbfb19",
   "metadata": {},
   "outputs": [],
   "source": [
    "#choose model, paragraph_selection_strategy and dataset.\n",
    "model_name = 'bert' #'roberta'\n",
    "dataset_name = 'asylex-outcome' #'asylex-outcome' 'sentiment1' 'sentiment2'\n",
    "paragraph_selection_strategy = 'first' #'rand' 'cas' 'first' 'last' '' \n",
    "#for datasets sentiment1 and sentiment2, you must use '' as paragraph selection strategy\n",
    "# for the other datasets, you can't use '' as paragraph selection strategy"
   ]
  },
  {
   "cell_type": "code",
   "execution_count": null,
   "id": "6afe5bb6",
   "metadata": {},
   "outputs": [],
   "source": [
    "#create the dataset\n",
    "text_processor = TextProcessor(None)\n",
    "dh = DatasetHandler(info=None,model=model_name,text_processor=text_processor)\n",
    "dataset_path, model_path, num_labels = dh.import_paths_and_nlabels(dataset_name,model_name,paragraph_selection_strategy)\n",
    "created_dataset = dh.create_dataset(dataset_name,paragraph_selection_strategy,subset_dimension=None)\n",
    "dh.write_dataset(dataset_path,created_dataset)\n",
    "del created_dataset"
   ]
  },
  {
   "cell_type": "markdown",
   "id": "f6c9b2cd",
   "metadata": {},
   "source": [
    "#### Proceed training the model using train_and_test.ipynb\n",
    "When the training is done and the models are saved in the proper models folder, you can move on to the following stage"
   ]
  },
  {
   "cell_type": "code",
   "execution_count": 16,
   "id": "6a51891a",
   "metadata": {},
   "outputs": [],
   "source": [
    "# import XAI classes and functions\n",
    "%run XAI.ipynb"
   ]
  },
  {
   "cell_type": "code",
   "execution_count": 17,
   "id": "d4534216",
   "metadata": {},
   "outputs": [],
   "source": [
    "#import dataset and model\n",
    "train_set,test_set,validation_set,tokenizer,model = Loader.import_dataset_and_model(dataset_name,model_name,paragraph_selection_strategy)\n",
    "dataset = test_set\n",
    "del test_set\n",
    "del train_set"
   ]
  },
  {
   "cell_type": "code",
   "execution_count": null,
   "id": "aa0c6471",
   "metadata": {},
   "outputs": [],
   "source": [
    "#use XAI methods\n",
    "n_embeddings = 6 #number of embeddings to be generated. this must be >= n_sentences\n",
    "n_sentences = 2\n",
    "undecided_threshold = 0.4\n",
    "\n",
    "my_lime = LIME(['negative','positive'],510,1000,clipped_heatmap=False,analytics=DataAnalysis(method_name='lime',create_plot=True,create_stats=True,relevance_threshold=0.01))\n",
    "my_shap = SHA(clipped_heatmap=False,analytics=DataAnalysis(method_name='shap',create_plot=True,create_stats=True,relevance_threshold=0.1))\n",
    "my_doa = DOA(analytics=DataAnalysis(method_name='diff_of_angle_pho',create_plot=True,create_stats=True,relevance_threshold=4.0))\n",
    "my_rang_csm = rangedCSM(analytics=DataAnalysis(method_name='ranged_csm',create_plot=True,create_stats=True,relevance_threshold=0.35))\n",
    "method_list = [my_rang_csm,my_shap] #this is the list of methods that will be applied\n",
    "\n",
    "ac = AnalysisCreator('try1')\n",
    "_ = model.to('cpu')\n",
    "embeddings_manager.generate_embeddings(dataset_name,model_name,paragraph_selection_strategy,n_embeddings)\n",
    "ac.load_embeddings(n_embeddings)\n",
    "if torch.cuda.is_available():\n",
    "    model.to('cuda')\n",
    "ac.create_scores(n_sentences=n_sentences,undecided_threshold=undecided_threshold,method_list=method_list)\n",
    "ac.create_comparison(method_list)\n",
    "_ = model.to('cpu')"
   ]
  },
  {
   "cell_type": "markdown",
   "id": "7bc94621",
   "metadata": {},
   "source": [
    "see the results in the results folder"
   ]
  },
  {
   "cell_type": "code",
   "execution_count": null,
   "id": "eb8321ed",
   "metadata": {},
   "outputs": [],
   "source": [
    "# other implemented methods\n",
    "my_lime = LIME(['negative','positive'],510,1000)\n",
    "my_shap = SHA(clipped_heatmap=False,analytics=DataAnalysis(create_plot=True,create_stats=True,relevance_threshold=0.1))\n",
    "my_doa = DOA(analytics=DataAnalysis(create_plot=True,create_stats=True,relevance_threshold=4.0))\n",
    "my_ned = NED()\n",
    "my_csm = CSM()\n",
    "my_new_csm = newCSM()\n",
    "my_cos_sim = cosine_similarity(analytics=DataAnalysis(create_plot=True,create_stats=True,relevance_threshold=0.35)) #analytics=DataAnalysis(create_plot=True,create_stats=True,relevance_threshold=0.35)"
   ]
  }
 ],
 "metadata": {
  "kernelspec": {
   "display_name": "DMML",
   "language": "python",
   "name": "python3"
  },
  "language_info": {
   "codemirror_mode": {
    "name": "ipython",
    "version": 3
   },
   "file_extension": ".py",
   "mimetype": "text/x-python",
   "name": "python",
   "nbconvert_exporter": "python",
   "pygments_lexer": "ipython3",
   "version": "3.10.4"
  }
 },
 "nbformat": 4,
 "nbformat_minor": 5
}
