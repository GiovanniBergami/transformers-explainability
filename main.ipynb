{
 "cells": [
  {
   "cell_type": "markdown",
   "id": "36ef2dd7",
   "metadata": {},
   "source": [
    "Project steps:"
   ]
  },
  {
   "cell_type": "code",
   "execution_count": null,
   "id": "43c2226e",
   "metadata": {},
   "outputs": [],
   "source": [
    "%run dataset_creator.ipynb"
   ]
  },
  {
   "cell_type": "code",
   "execution_count": null,
   "id": "a9fbfb19",
   "metadata": {},
   "outputs": [],
   "source": [
    "model_name = 'bert' #'roberta'\n",
    "paragraph_selection_strategy = 'first' #'rand' 'cas' 'first' 'last'\n",
    "dataset_name = 'asylex-outcome' #'asylex-outcome' 'sentiment1' 'sentiment2'\n",
    "text_processor = TextProcessor(None)\n",
    "dh = DatasetHandler(info=None,model=model_name,text_processor=text_processor)\n",
    "dataset_path, model_path, num_labels = dh.import_paths_and_nlabels(dataset_name,model_name,paragraph_selection_strategy)\n",
    "#previous_version = dh.read_dataset(dataset_path)"
   ]
  },
  {
   "cell_type": "code",
   "execution_count": null,
   "id": "6afe5bb6",
   "metadata": {},
   "outputs": [],
   "source": [
    "#experimental_version = dh.create_dataset(dataset_name,paragraph_selection_strategy,subset_dimension=None)\n",
    "#dh.compare_datasets(previous_version,experimental_version)\n",
    "dh.write_dataset(dataset_path,experimental_version)"
   ]
  },
  {
   "cell_type": "code",
   "execution_count": null,
   "id": "cc411977",
   "metadata": {},
   "outputs": [],
   "source": [
    "for model_name in ['bert','roberta']:\n",
    "    for dataset_name in ['asylex-outcome','asylex-norp']:\n",
    "        for paragraph_selection_strategy in ['first','last','rand','cas']:\n",
    "            print(model_name + ' '+dataset_name + ' '+ paragraph_selection_strategy)\n",
    "            text_processor = TextProcessor(None)\n",
    "            dh = DatasetHandler(info=None,model=model_name,text_processor=text_processor)\n",
    "            dataset_path, model_path, num_labels = dh.import_paths_and_nlabels(dataset_name,model_name,paragraph_selection_strategy)\n",
    "            previous_version = dh.read_dataset(dataset_path)\n",
    "            experimental_version = dh.create_dataset(dataset_name,paragraph_selection_strategy,subset_dimension=None)\n",
    "            dh.compare_datasets(previous_version,experimental_version)"
   ]
  },
  {
   "cell_type": "code",
   "execution_count": null,
   "id": "eac71875",
   "metadata": {},
   "outputs": [],
   "source": [
    "text_processor = TextProcessor(None)\n",
    "ac = AsyLexCleaner(text_processor=text_processor)\n",
    "experimental = ac.full_texts_creator()\n",
    "ac.write_dataset(FULL_TEXTS_REFINED_FILE,experimental)\n",
    "#original = ac.read_dataset(FULL_TEXTS_REFINED_FILE)\n",
    "#experimental.equals(original)"
   ]
  },
  {
   "cell_type": "markdown",
   "id": "f6c9b2cd",
   "metadata": {},
   "source": [
    "Proceed training the model using train_and_test.ipynb"
   ]
  },
  {
   "cell_type": "code",
   "execution_count": null,
   "id": "6a51891a",
   "metadata": {},
   "outputs": [],
   "source": [
    "%run XAI.ipynb"
   ]
  },
  {
   "cell_type": "code",
   "execution_count": null,
   "id": "d4534216",
   "metadata": {},
   "outputs": [],
   "source": [
    "model_name = 'bert' #'bert'\n",
    "dataset_name = 'asylex-outcome' #'sentiment1' 'sentiment2' 'asylex-norp'\n",
    "paragraph_selection_strategy = 'first' #'last' 'cas' 'rand'\n",
    "train_set,test_set,validation_set,tokenizer,model = Loader.import_dataset_and_model(dataset_name,model_name,paragraph_selection_strategy)\n",
    "dataset = test_set"
   ]
  },
  {
   "cell_type": "code",
   "execution_count": null,
   "id": "aa0c6471",
   "metadata": {},
   "outputs": [],
   "source": [
    "n_embeddings = 6\n",
    "n_sentences = 2\n",
    "undecided_threshold = 0.4\n",
    "\n",
    "my_lime = LIME(['negative','positive'],510,1000,clipped_heatmap=False,analytics=DataAnalysis(method_name='lime',create_plot=True,create_stats=True,relevance_threshold=0.01))\n",
    "\n",
    "my_shap = SHA(clipped_heatmap=False,analytics=DataAnalysis(method_name='shap',create_plot=True,create_stats=True,relevance_threshold=0.1))\n",
    "my_doa = DOA(analytics=DataAnalysis(method_name='diff_of_angle_pho',create_plot=True,create_stats=True,relevance_threshold=4.0))\n",
    "my_rang_csm = rangedCSM(analytics=DataAnalysis(method_name='ranged_csm',create_plot=True,create_stats=True,relevance_threshold=0.35))\n",
    "method_list = [my_rang_csm]\n",
    "\n",
    "ac = AnalysisCreator('try1')\n",
    "_ = model.to('cpu')\n",
    "embeddings_manager.generate_embeddings(dataset_name,model_name,paragraph_selection_strategy,n_embeddings)\n",
    "ac.load_embeddings(n_embeddings)\n",
    "if torch.cuda.is_available():\n",
    "    model.to('cuda')\n",
    "ac.create_scores(n_sentences=n_sentences,undecided_threshold=undecided_threshold,method_list=method_list)\n",
    "ac.create_comparison(method_list)\n",
    "_ = model.to('cpu')"
   ]
  },
  {
   "cell_type": "code",
   "execution_count": null,
   "id": "eb8321ed",
   "metadata": {},
   "outputs": [],
   "source": [
    "# relevance_threshold = 0.3\n",
    "my_lime = LIME(['negative','positive'],510,1000)\n",
    "my_shap = SHA(clipped_heatmap=False,analytics=DataAnalysis(create_plot=True,create_stats=True,relevance_threshold=0.1))\n",
    "my_doa = DOA(analytics=DataAnalysis(create_plot=True,create_stats=True,relevance_threshold=4.0))\n",
    "my_ned = NED()\n",
    "my_csm = CSM()\n",
    "my_new_csm = newCSM()\n",
    "my_cos_sim = cosine_similarity(analytics=DataAnalysis(create_plot=True,create_stats=True,relevance_threshold=0.35)) #analytics=DataAnalysis(create_plot=True,create_stats=True,relevance_threshold=0.35)\n",
    "\n",
    "# my_meth = newNED()\n",
    "# my_emb_class = embedding_classification(analytics=DataAnalysis(create_plot=True,create_stats=True,relevance_threshold=relevance_threshold))"
   ]
  }
 ],
 "metadata": {
  "kernelspec": {
   "display_name": "DMML",
   "language": "python",
   "name": "python3"
  },
  "language_info": {
   "codemirror_mode": {
    "name": "ipython",
    "version": 3
   },
   "file_extension": ".py",
   "mimetype": "text/x-python",
   "name": "python",
   "nbconvert_exporter": "python",
   "pygments_lexer": "ipython3",
   "version": "3.10.4"
  }
 },
 "nbformat": 4,
 "nbformat_minor": 5
}
